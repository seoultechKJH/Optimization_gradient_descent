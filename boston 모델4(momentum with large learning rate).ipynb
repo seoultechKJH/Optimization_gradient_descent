{
 "cells": [
  {
   "cell_type": "code",
   "execution_count": null,
   "id": "17b2d42e",
   "metadata": {},
   "outputs": [],
   "source": [
    "import pandas as pd\n",
    "import numpy as np\n",
    "import matplotlib.pyplot as plt\n",
    "import seaborn as sns\n",
    "from sklearn import preprocessing\n",
    "from sklearn.linear_model import LinearRegression\n",
    "from sklearn.metrics import mean_squared_error"
   ]
  },
  {
   "cell_type": "code",
   "execution_count": 2,
   "id": "42897847",
   "metadata": {},
   "outputs": [
    {
     "name": "stderr",
     "output_type": "stream",
     "text": [
      "C:\\Users\\user\\AppData\\Local\\Programs\\Python\\Python39\\lib\\site-packages\\sklearn\\utils\\deprecation.py:87: FutureWarning: Function load_boston is deprecated; `load_boston` is deprecated in 1.0 and will be removed in 1.2.\n",
      "\n",
      "    The Boston housing prices dataset has an ethical problem. You can refer to\n",
      "    the documentation of this function for further details.\n",
      "\n",
      "    The scikit-learn maintainers therefore strongly discourage the use of this\n",
      "    dataset unless the purpose of the code is to study and educate about\n",
      "    ethical issues in data science and machine learning.\n",
      "\n",
      "    In this special case, you can fetch the dataset from the original\n",
      "    source::\n",
      "\n",
      "        import pandas as pd\n",
      "        import numpy as np\n",
      "\n",
      "\n",
      "        data_url = \"http://lib.stat.cmu.edu/datasets/boston\"\n",
      "        raw_df = pd.read_csv(data_url, sep=\"\\s+\", skiprows=22, header=None)\n",
      "        data = np.hstack([raw_df.values[::2, :], raw_df.values[1::2, :2]])\n",
      "        target = raw_df.values[1::2, 2]\n",
      "\n",
      "    Alternative datasets include the California housing dataset (i.e.\n",
      "    :func:`~sklearn.datasets.fetch_california_housing`) and the Ames housing\n",
      "    dataset. You can load the datasets as follows::\n",
      "\n",
      "        from sklearn.datasets import fetch_california_housing\n",
      "        housing = fetch_california_housing()\n",
      "\n",
      "    for the California housing dataset and::\n",
      "\n",
      "        from sklearn.datasets import fetch_openml\n",
      "        housing = fetch_openml(name=\"house_prices\", as_frame=True)\n",
      "\n",
      "    for the Ames housing dataset.\n",
      "    \n",
      "  warnings.warn(msg, category=FutureWarning)\n"
     ]
    },
    {
     "data": {
      "text/html": [
       "<div>\n",
       "<style scoped>\n",
       "    .dataframe tbody tr th:only-of-type {\n",
       "        vertical-align: middle;\n",
       "    }\n",
       "\n",
       "    .dataframe tbody tr th {\n",
       "        vertical-align: top;\n",
       "    }\n",
       "\n",
       "    .dataframe thead th {\n",
       "        text-align: right;\n",
       "    }\n",
       "</style>\n",
       "<table border=\"1\" class=\"dataframe\">\n",
       "  <thead>\n",
       "    <tr style=\"text-align: right;\">\n",
       "      <th></th>\n",
       "      <th>CRIM</th>\n",
       "      <th>ZN</th>\n",
       "      <th>INDUS</th>\n",
       "      <th>CHAS</th>\n",
       "      <th>NOX</th>\n",
       "      <th>RM</th>\n",
       "      <th>AGE</th>\n",
       "      <th>DIS</th>\n",
       "      <th>RAD</th>\n",
       "      <th>TAX</th>\n",
       "      <th>PTRATIO</th>\n",
       "      <th>B</th>\n",
       "      <th>LSTAT</th>\n",
       "      <th>Price</th>\n",
       "    </tr>\n",
       "  </thead>\n",
       "  <tbody>\n",
       "    <tr>\n",
       "      <th>0</th>\n",
       "      <td>0.00632</td>\n",
       "      <td>18.0</td>\n",
       "      <td>2.31</td>\n",
       "      <td>0.0</td>\n",
       "      <td>0.538</td>\n",
       "      <td>6.575</td>\n",
       "      <td>65.2</td>\n",
       "      <td>4.0900</td>\n",
       "      <td>1.0</td>\n",
       "      <td>296.0</td>\n",
       "      <td>15.3</td>\n",
       "      <td>396.90</td>\n",
       "      <td>4.98</td>\n",
       "      <td>24.0</td>\n",
       "    </tr>\n",
       "    <tr>\n",
       "      <th>1</th>\n",
       "      <td>0.02731</td>\n",
       "      <td>0.0</td>\n",
       "      <td>7.07</td>\n",
       "      <td>0.0</td>\n",
       "      <td>0.469</td>\n",
       "      <td>6.421</td>\n",
       "      <td>78.9</td>\n",
       "      <td>4.9671</td>\n",
       "      <td>2.0</td>\n",
       "      <td>242.0</td>\n",
       "      <td>17.8</td>\n",
       "      <td>396.90</td>\n",
       "      <td>9.14</td>\n",
       "      <td>21.6</td>\n",
       "    </tr>\n",
       "    <tr>\n",
       "      <th>2</th>\n",
       "      <td>0.02729</td>\n",
       "      <td>0.0</td>\n",
       "      <td>7.07</td>\n",
       "      <td>0.0</td>\n",
       "      <td>0.469</td>\n",
       "      <td>7.185</td>\n",
       "      <td>61.1</td>\n",
       "      <td>4.9671</td>\n",
       "      <td>2.0</td>\n",
       "      <td>242.0</td>\n",
       "      <td>17.8</td>\n",
       "      <td>392.83</td>\n",
       "      <td>4.03</td>\n",
       "      <td>34.7</td>\n",
       "    </tr>\n",
       "    <tr>\n",
       "      <th>3</th>\n",
       "      <td>0.03237</td>\n",
       "      <td>0.0</td>\n",
       "      <td>2.18</td>\n",
       "      <td>0.0</td>\n",
       "      <td>0.458</td>\n",
       "      <td>6.998</td>\n",
       "      <td>45.8</td>\n",
       "      <td>6.0622</td>\n",
       "      <td>3.0</td>\n",
       "      <td>222.0</td>\n",
       "      <td>18.7</td>\n",
       "      <td>394.63</td>\n",
       "      <td>2.94</td>\n",
       "      <td>33.4</td>\n",
       "    </tr>\n",
       "    <tr>\n",
       "      <th>4</th>\n",
       "      <td>0.06905</td>\n",
       "      <td>0.0</td>\n",
       "      <td>2.18</td>\n",
       "      <td>0.0</td>\n",
       "      <td>0.458</td>\n",
       "      <td>7.147</td>\n",
       "      <td>54.2</td>\n",
       "      <td>6.0622</td>\n",
       "      <td>3.0</td>\n",
       "      <td>222.0</td>\n",
       "      <td>18.7</td>\n",
       "      <td>396.90</td>\n",
       "      <td>5.33</td>\n",
       "      <td>36.2</td>\n",
       "    </tr>\n",
       "  </tbody>\n",
       "</table>\n",
       "</div>"
      ],
      "text/plain": [
       "      CRIM    ZN  INDUS  CHAS    NOX     RM   AGE     DIS  RAD    TAX  \\\n",
       "0  0.00632  18.0   2.31   0.0  0.538  6.575  65.2  4.0900  1.0  296.0   \n",
       "1  0.02731   0.0   7.07   0.0  0.469  6.421  78.9  4.9671  2.0  242.0   \n",
       "2  0.02729   0.0   7.07   0.0  0.469  7.185  61.1  4.9671  2.0  242.0   \n",
       "3  0.03237   0.0   2.18   0.0  0.458  6.998  45.8  6.0622  3.0  222.0   \n",
       "4  0.06905   0.0   2.18   0.0  0.458  7.147  54.2  6.0622  3.0  222.0   \n",
       "\n",
       "   PTRATIO       B  LSTAT  Price  \n",
       "0     15.3  396.90   4.98   24.0  \n",
       "1     17.8  396.90   9.14   21.6  \n",
       "2     17.8  392.83   4.03   34.7  \n",
       "3     18.7  394.63   2.94   33.4  \n",
       "4     18.7  396.90   5.33   36.2  "
      ]
     },
     "execution_count": 2,
     "metadata": {},
     "output_type": "execute_result"
    }
   ],
   "source": [
    "from sklearn.datasets import load_boston\n",
    "boston = load_boston() # boston 데이터 로드\n",
    "bos = pd.DataFrame(boston.data, columns = boston.feature_names)\n",
    "bos['Price'] = boston.target\n",
    "bos.head()"
   ]
  },
  {
   "cell_type": "code",
   "execution_count": 3,
   "id": "fcc603ba",
   "metadata": {},
   "outputs": [
    {
     "data": {
      "text/plain": [
       "Price      1.000000\n",
       "RM         0.695360\n",
       "ZN         0.360445\n",
       "B          0.333461\n",
       "DIS        0.249929\n",
       "CHAS       0.175260\n",
       "AGE       -0.376955\n",
       "RAD       -0.381626\n",
       "CRIM      -0.388305\n",
       "NOX       -0.427321\n",
       "TAX       -0.468536\n",
       "INDUS     -0.483725\n",
       "PTRATIO   -0.507787\n",
       "LSTAT     -0.737663\n",
       "Name: Price, dtype: float64"
      ]
     },
     "execution_count": 3,
     "metadata": {},
     "output_type": "execute_result"
    }
   ],
   "source": [
    "corr = bos.corr()\n",
    "corr['Price'].sort_values(ascending = False)"
   ]
  },
  {
   "cell_type": "code",
   "execution_count": 4,
   "id": "abe83c61",
   "metadata": {},
   "outputs": [],
   "source": [
    "from sklearn import preprocessing\n",
    "data = preprocessing.scale(bos.drop(columns = ['Price']))\n",
    "y = preprocessing.scale(bos['Price']) #target값 스케일링"
   ]
  },
  {
   "cell_type": "code",
   "execution_count": 5,
   "id": "31746b82",
   "metadata": {},
   "outputs": [],
   "source": [
    "x = np.c_[np.ones(data.shape[0]), data] #[상수항(1), 전체변수]"
   ]
  },
  {
   "cell_type": "code",
   "execution_count": 6,
   "id": "047465e8",
   "metadata": {},
   "outputs": [],
   "source": [
    "alpha = 0.1 #learning rate = 0.1\n",
    "m = y.size # 개수 - 506개\n",
    "np.random.seed(10)\n",
    "theta = np.random.rand(14) #0~1 사이의 난수 14개 생성 (파라미터 초기값)\n",
    "def gradient_descent(x, y, m, theta, alpha):\n",
    "    cost_list = []\n",
    "    theta_list = []\n",
    "    prediction_list = []\n",
    "    gradient_list = []\n",
    "    run = True\n",
    "    cost_list.append(1e10) #cost 초기값 = 10의 10승\n",
    "    i = 0\n",
    "    while run: #run이 True일 경우\n",
    "        prediction = np.dot(x, theta) #벡터 x와 벡터 theta 간의 내적으로 예측치 계산\n",
    "        prediction_list.append(prediction) #예측치 기록\n",
    "        error = prediction - y #예측치와 실제값의 오차 계산\n",
    "        cost = 1/(2*m) * np.dot(error.T, error) # 오차 제곱합을 2m으로 나눔 (gradient descent를 위해 편의상 2m으로 설정)\n",
    "        cost_list.append(cost) #cost 기록\n",
    "        if len(theta_list) == 0: #파라미터 초기값으로 1회 수행\n",
    "            gradient = - (1/m) * np.dot(x.T, error)\n",
    "            theta = theta - (alpha * (1/m) * np.dot(x.T, error)) #파라미터 업데이트\n",
    "            theta_list.append(theta) #파라미터 기록\n",
    "            gradient_list.append(gradient) #gradient 기록\n",
    "        elif len(theta_list) != 0: #모멘텀을 반영한 그래디언트 생성\n",
    "            before_gradient = gradient_list[-1]\n",
    "            beta = 0.5\n",
    "            new_gradient = beta * before_gradient - (1-beta) * (1/m) * np.dot(x.T, error)\n",
    "            theta = theta + alpha * new_gradient #파라미터 업데이트\n",
    "            theta_list.append(theta) #파라미터 기록\n",
    "            gradient_list.append(new_gradient) #gradient 기록\n",
    "            \n",
    "        if cost_list[i] - cost_list[i+1] < 1e-9: #현재 cost와 전단계 cost 차이가 작으면 수렴이므로 중단\n",
    "            run = False\n",
    "        \n",
    "        i += 1\n",
    "    cost_list.pop(0) #초기 cost값 기록 삭제\n",
    "    return prediction_list, cost_list, theta_list"
   ]
  },
  {
   "cell_type": "code",
   "execution_count": 7,
   "id": "62130920",
   "metadata": {},
   "outputs": [],
   "source": [
    "prediction_list, cost_list, theta_list = gradient_descent(x, y, m, theta, alpha)\n",
    "theta = theta_list[-1] #마지막 수렴된 파라미터 벡터 저장"
   ]
  },
  {
   "cell_type": "code",
   "execution_count": 8,
   "id": "c3913258",
   "metadata": {},
   "outputs": [
    {
     "data": {
      "image/png": "[encoded data removed]",
      "text/plain": [
       "<Figure size 432x288 with 1 Axes>"
      ]
     },
     "metadata": {
      "needs_background": "light"
     },
     "output_type": "display_data"
    }
   ],
   "source": [
    "plt.plot(cost_list)\n",
    "plt.xlabel('Iterations')\n",
    "plt.ylabel('Cost')\n",
    "plt.show() #반복에 따른 cost 그래프 시각화"
   ]
  },
  {
   "cell_type": "code",
   "execution_count": 9,
   "id": "bac21849",
   "metadata": {},
   "outputs": [
    {
     "name": "stdout",
     "output_type": "stream",
     "text": [
      "선형회귀에 의한 MSE : 2.1398455\n",
      "gradient descent에 의한 MSE : 2.2318619\n"
     ]
    }
   ],
   "source": [
    "y_pred = theta[0] + theta[1] * x[:, 1] + theta[2] * x[:, 2] + theta[3] * x[:, 3] + theta[4] * x[:, 4] + theta[5] * x[:, 5] + theta[6] * x[:, 6] + theta[7] * x[:, 7] + theta[8] * x[:, 8] + theta[9] * x[:, 9] + theta[10] * x[:, 10] + theta[11] * x[:, 11] + theta[12] * x[:, 12] + theta[13] * x[:, 13] #최종 파라미터 벡터로 선형식 구성하고 예측값 산출\n",
    "\n",
    "MSE_e = ((y_pred-y)**2).mean() #선형식에 의한 오차제곱 평균 계산\n",
    "MSE_GD = ((prediction_list[-1]-y)**2).mean() #gradient descent에 의한 오차제곱 평균 계산\n",
    "\n",
    "print('선형회귀에 의한 MSE : {}'.format(round(MSE_e, 7)))\n",
    "print('gradient descent에 의한 MSE : {}'.format(round(MSE_GD, 7)))"
   ]
  },
  {
   "cell_type": "code",
   "execution_count": null,
   "id": "2e8b2d12",
   "metadata": {},
   "outputs": [],
   "source": []
  }
 ],
 "metadata": {
  "kernelspec": {
   "display_name": "Python 3 (ipykernel)",
   "language": "python",
   "name": "python3"
  },
  "language_info": {
   "codemirror_mode": {
    "name": "ipython",
    "version": 3
   },
   "file_extension": ".py",
   "mimetype": "text/x-python",
   "name": "python",
   "nbconvert_exporter": "python",
   "pygments_lexer": "ipython3",
   "version": "3.9.0"
  }
 },
 "nbformat": 4,
 "nbformat_minor": 5
}
